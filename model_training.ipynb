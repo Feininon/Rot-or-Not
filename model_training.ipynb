{
 "cells": [
  {
   "cell_type": "code",
   "execution_count": 1,
   "metadata": {},
   "outputs": [],
   "source": [
    "import os\n",
    "import tensorflow as tf\n",
    "from tensorflow.keras.preprocessing.image import ImageDataGenerator\n"
   ]
  },
  {
   "cell_type": "code",
   "execution_count": 2,
   "metadata": {},
   "outputs": [
    {
     "name": "stdout",
     "output_type": "stream",
     "text": [
      "GPU is enabled and ready to use.\n"
     ]
    }
   ],
   "source": [
    "gpus = tf.config.experimental.list_physical_devices('GPU')\n",
    "if gpus:\n",
    "    try:\n",
    "        for gpu in gpus:\n",
    "            tf.config.experimental.set_memory_growth(gpu, True)\n",
    "        print(\"GPU is enabled and ready to use.\")\n",
    "    except RuntimeError as e:\n",
    "        print(e)\n"
   ]
  },
  {
   "cell_type": "code",
   "execution_count": 3,
   "metadata": {},
   "outputs": [],
   "source": [
    "train_dir = os.path.join(\"dataset\", \"Train\")\n",
    "test_dir = os.path.join(\"dataset\", \"Test\")\n"
   ]
  },
  {
   "cell_type": "code",
   "execution_count": 4,
   "metadata": {},
   "outputs": [
    {
     "name": "stdout",
     "output_type": "stream",
     "text": [
      "Found 23619 images belonging to 2 classes.\n",
      "Found 6738 images belonging to 2 classes.\n"
     ]
    }
   ],
   "source": [
    "# Data augmentation for training set\n",
    "train_datagen = ImageDataGenerator(\n",
    "    rescale=1.0/255,\n",
    "    rotation_range=30,\n",
    "    width_shift_range=0.2,\n",
    "    height_shift_range=0.2,\n",
    "    shear_range=0.2,\n",
    "    zoom_range=0.2,\n",
    "    horizontal_flip=True,\n",
    "    fill_mode=\"nearest\"\n",
    ")\n",
    "\n",
    "# Only rescaling for test set\n",
    "test_datagen = ImageDataGenerator(rescale=1.0/255)\n",
    "\n",
    "# Create data generators\n",
    "train_generator = train_datagen.flow_from_directory(\n",
    "    train_dir,\n",
    "    target_size=(224, 224),\n",
    "    batch_size=32,\n",
    "    class_mode='categorical'\n",
    ")\n",
    "\n",
    "test_generator = test_datagen.flow_from_directory(\n",
    "    test_dir,\n",
    "    target_size=(224, 224),\n",
    "    batch_size=32,\n",
    "    class_mode='categorical'\n",
    ")\n"
   ]
  },
  {
   "cell_type": "code",
   "execution_count": 5,
   "metadata": {},
   "outputs": [],
   "source": [
    "from tensorflow.keras.models import Sequential\n",
    "from tensorflow.keras.layers import Conv2D, MaxPooling2D, Flatten, Dense, Dropout\n",
    "\n",
    "model = Sequential([\n",
    "    Conv2D(32, (3,3), activation='relu', input_shape=(224, 224, 3)),\n",
    "    MaxPooling2D(pool_size=(2,2)),\n",
    "\n",
    "    Conv2D(64, (3,3), activation='relu'),\n",
    "    MaxPooling2D(pool_size=(2,2)),\n",
    "\n",
    "    Conv2D(128, (3,3), activation='relu'),\n",
    "    MaxPooling2D(pool_size=(2,2)),\n",
    "\n",
    "    Flatten(),\n",
    "    Dense(128, activation='relu'),\n",
    "    Dropout(0.5),\n",
    "    Dense(2, activation='softmax')  # Assuming two classes: fresh and rot\n",
    "])\n"
   ]
  },
  {
   "cell_type": "code",
   "execution_count": 6,
   "metadata": {},
   "outputs": [],
   "source": [
    "model.compile(\n",
    "    loss='categorical_crossentropy',\n",
    "    optimizer='adam',\n",
    "    metrics=['accuracy']\n",
    ")\n"
   ]
  },
  {
   "cell_type": "code",
   "execution_count": 7,
   "metadata": {},
   "outputs": [
    {
     "name": "stdout",
     "output_type": "stream",
     "text": [
      "Epoch 1/10\n",
      "739/739 [==============================] - 668s 886ms/step - loss: 0.4734 - accuracy: 0.7845 - val_loss: 0.3781 - val_accuracy: 0.8313\n",
      "Epoch 2/10\n",
      "739/739 [==============================] - 352s 477ms/step - loss: 0.3618 - accuracy: 0.8493 - val_loss: 0.3070 - val_accuracy: 0.8654\n",
      "Epoch 3/10\n",
      "739/739 [==============================] - 241s 326ms/step - loss: 0.3226 - accuracy: 0.8687 - val_loss: 0.2940 - val_accuracy: 0.8743\n",
      "Epoch 4/10\n",
      "739/739 [==============================] - 229s 310ms/step - loss: 0.2826 - accuracy: 0.8819 - val_loss: 0.2458 - val_accuracy: 0.9007\n",
      "Epoch 5/10\n",
      "739/739 [==============================] - 224s 303ms/step - loss: 0.2621 - accuracy: 0.8924 - val_loss: 0.3018 - val_accuracy: 0.8691\n",
      "Epoch 6/10\n",
      "739/739 [==============================] - 223s 301ms/step - loss: 0.2385 - accuracy: 0.9019 - val_loss: 0.2319 - val_accuracy: 0.9083\n",
      "Epoch 7/10\n",
      "739/739 [==============================] - 223s 301ms/step - loss: 0.2243 - accuracy: 0.9091 - val_loss: 0.2014 - val_accuracy: 0.9170\n",
      "Epoch 8/10\n",
      "739/739 [==============================] - 226s 306ms/step - loss: 0.2119 - accuracy: 0.9139 - val_loss: 0.1634 - val_accuracy: 0.9346\n",
      "Epoch 9/10\n",
      "739/739 [==============================] - 226s 306ms/step - loss: 0.2128 - accuracy: 0.9125 - val_loss: 0.1799 - val_accuracy: 0.9245\n",
      "Epoch 10/10\n",
      "739/739 [==============================] - 227s 307ms/step - loss: 0.1955 - accuracy: 0.9221 - val_loss: 0.2055 - val_accuracy: 0.9151\n"
     ]
    }
   ],
   "source": [
    "history = model.fit(\n",
    "    train_generator,\n",
    "    epochs=10,\n",
    "    validation_data=test_generator\n",
    ")\n"
   ]
  },
  {
   "cell_type": "code",
   "execution_count": 8,
   "metadata": {},
   "outputs": [],
   "source": [
    "model.save(\"rotten_fruit_classifier.h5\")\n"
   ]
  },
  {
   "cell_type": "code",
   "execution_count": 9,
   "metadata": {},
   "outputs": [
    {
     "name": "stdout",
     "output_type": "stream",
     "text": [
      "211/211 [==============================] - 19s 90ms/step - loss: 0.2055 - accuracy: 0.9151\n",
      "Test Accuracy: 91.51%\n"
     ]
    }
   ],
   "source": [
    "loss, accuracy = model.evaluate(test_generator)\n",
    "print(f\"Test Accuracy: {accuracy*100:.2f}%\")\n"
   ]
  }
 ],
 "metadata": {
  "kernelspec": {
   "display_name": "rotinhell",
   "language": "python",
   "name": "python3"
  },
  "language_info": {
   "codemirror_mode": {
    "name": "ipython",
    "version": 3
   },
   "file_extension": ".py",
   "mimetype": "text/x-python",
   "name": "python",
   "nbconvert_exporter": "python",
   "pygments_lexer": "ipython3",
   "version": "3.10.16"
  }
 },
 "nbformat": 4,
 "nbformat_minor": 2
}
